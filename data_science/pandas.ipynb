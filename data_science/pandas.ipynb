{
 "cells": [
  {
   "cell_type": "markdown",
   "metadata": {},
   "source": [
    "THƯ VIỆN PANDAS CƠ BẢN\n",
    "\n",
    "1. Cài đặt và khai báo\n",
    "\n",
    "* Cú pháp khai báo: Lệnh sau thực hiện khai báo sử dụng thư viện pandas và gán nhãn thư viện này thành \"pd\"\n",
    "    import pandas as pd\n",
    "\n",
    "\n",
    "2. Series trong pandas  \n",
    "Trong pands có hai cấu trúc dữ liệu cơ bản là series và dataframe. Trong đó kiểu series có thể hình dụng tương tự kiểu Dictionary tức chỉ gồm 2 cột key và value. Trong khi đó Dataframe có thể tưởng tượng như bảng dữ liệu nhiều cột như excel.\n"
   ]
  }
 ],
 "metadata": {
  "language_info": {
   "name": "python"
  },
  "orig_nbformat": 4
 },
 "nbformat": 4,
 "nbformat_minor": 2
}
